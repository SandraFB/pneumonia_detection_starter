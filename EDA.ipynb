{
  "nbformat": 4,
  "nbformat_minor": 0,
  "metadata": {
    "kernelspec": {
      "display_name": "Python 3",
      "language": "python",
      "name": "python3"
    },
    "language_info": {
      "codemirror_mode": {
        "name": "ipython",
        "version": 3
      },
      "file_extension": ".py",
      "mimetype": "text/x-python",
      "name": "python",
      "nbconvert_exporter": "python",
      "pygments_lexer": "ipython3",
      "version": "3.7.6"
    },
    "colab": {
      "name": "EDA.ipynb",
      "provenance": [],
      "include_colab_link": true
    }
  },
  "cells": [
    {
      "cell_type": "markdown",
      "metadata": {
        "id": "view-in-github",
        "colab_type": "text"
      },
      "source": [
        "<a href=\"https://colab.research.google.com/github/SandraFB/pneumonia_detection_starter/blob/main/EDA.ipynb\" target=\"_parent\"><img src=\"https://colab.research.google.com/assets/colab-badge.svg\" alt=\"Open In Colab\"/></a>"
      ]
    },
    {
      "cell_type": "code",
      "metadata": {
        "id": "4thIVJsd-Dhl"
      },
      "source": [
        "import numpy as np # linear algebra\n",
        "import pandas as pd # data processing, CSV file I/O (e.g. pd.read_csv)\n",
        "from glob import glob\n",
        "%matplotlib inline\n",
        "import matplotlib.pyplot as plt\n",
        "import seaborn as sns\n",
        "\n",
        "from tqdm import tqdm_notebook\n",
        "from matplotlib.patches import Rectangle\n",
        "#!pip install pydicom\n",
        "import pydicom as dcm\n",
        "%matplotlib inline \n",
        "IS_LOCAL = False\n",
        "import os\n"
      ],
      "execution_count": null,
      "outputs": []
    },
    {
      "cell_type": "code",
      "metadata": {
        "id": "xV4UTeVJ-Eir"
      },
      "source": [
        "imgs = glob.glob(\"test/*\")\n",
        "\n",
        "imgs_intensities = []\n",
        "\n",
        "for i in imgs: \n",
        "    \n",
        "    img = plt.imread(i)\n",
        "    imgs_intensities.extend(img.tolist())\n",
        "    #img_mask = (img > thresh)\n",
        "#    imgs_intensities.extend(img[img_mask].tolist())\n",
        "    \n",
        "x = plt.hist(imgs_intensities,bins=256)"
      ],
      "execution_count": null,
      "outputs": []
    },
    {
      "cell_type": "markdown",
      "metadata": {
        "id": "ip-fqUnN-Dhl"
      },
      "source": [
        "EDA is open-ended, and it is up to you to decide how to look at different ways to slice and dice your data. A good starting point is to look at the requirements for the FDA documentation in the final part of this project to guide (some) of the analyses you do. \n",
        "\n",
        "This EDA should also help to inform you of how pneumonia looks in the wild. E.g. what other types of diseases it's commonly found with, how often it is found, what ages it affects, etc. \n",
        "\n",
        "Note that this NIH dataset was not specifically acquired for pneumonia. So, while this is a representation of 'pneumonia in the wild,' the prevalence of pneumonia may be different if you were to take only chest x-rays that were acquired in an ER setting with suspicion of pneumonia. "
      ]
    },
    {
      "cell_type": "markdown",
      "metadata": {
        "id": "zDST7VJD-Dhl"
      },
      "source": [
        "Perform the following EDA:\n",
        "* The patient demographic data such as gender, age, patient position,etc. (as it is available)\n",
        "* The x-ray views taken (i.e. view position)\n",
        "* The number of cases including: \n",
        "    * number of pneumonia cases,\n",
        "    * number of non-pneumonia cases\n",
        "* The distribution of other diseases that are comorbid with pneumonia\n",
        "* Number of disease per patient \n",
        "* Pixel-level assessments of the imaging data for healthy & disease states of interest (e.g. histograms of intensity values) and compare distributions across diseases.\n",
        "\n",
        "Note: use full NIH data to perform the first a few EDA items and use `sample_labels.csv` for the pixel-level assassements. "
      ]
    },
    {
      "cell_type": "markdown",
      "metadata": {
        "id": "WGWOWr6X-Dhl"
      },
      "source": [
        "Also, **describe your findings and how will you set up the model training based on the findings.**"
      ]
    },
    {
      "cell_type": "code",
      "metadata": {
        "id": "EE1gav3U-Dhl",
        "outputId": "e6f67097-5ccb-4228-bc17-b83dfeb640ed"
      },
      "source": [
        "## Below is some helper code to read data for you.\n",
        "## Load NIH data\n",
        "all_xray_df = pd.read_csv('/data/Data_Entry_2017.csv')\n",
        "all_xray_df.sample(3)\n",
        "\n",
        "## Load 'sample_labels.csv' data for pixel level assessments\n",
        "sample_df = pd.read_csv('sample_labels.csv')\n",
        "sample_df.sample(3)"
      ],
      "execution_count": null,
      "outputs": [
        {
          "output_type": "execute_result",
          "data": {
            "text/html": [
              "<div>\n",
              "<style scoped>\n",
              "    .dataframe tbody tr th:only-of-type {\n",
              "        vertical-align: middle;\n",
              "    }\n",
              "\n",
              "    .dataframe tbody tr th {\n",
              "        vertical-align: top;\n",
              "    }\n",
              "\n",
              "    .dataframe thead th {\n",
              "        text-align: right;\n",
              "    }\n",
              "</style>\n",
              "<table border=\"1\" class=\"dataframe\">\n",
              "  <thead>\n",
              "    <tr style=\"text-align: right;\">\n",
              "      <th></th>\n",
              "      <th>Image Index</th>\n",
              "      <th>Finding Labels</th>\n",
              "      <th>Follow-up #</th>\n",
              "      <th>Patient ID</th>\n",
              "      <th>Patient Age</th>\n",
              "      <th>Patient Gender</th>\n",
              "      <th>View Position</th>\n",
              "      <th>OriginalImageWidth</th>\n",
              "      <th>OriginalImageHeight</th>\n",
              "      <th>OriginalImagePixelSpacing_x</th>\n",
              "      <th>OriginalImagePixelSpacing_y</th>\n",
              "    </tr>\n",
              "  </thead>\n",
              "  <tbody>\n",
              "    <tr>\n",
              "      <th>4418</th>\n",
              "      <td>00021840_022.png</td>\n",
              "      <td>Effusion</td>\n",
              "      <td>22</td>\n",
              "      <td>21840</td>\n",
              "      <td>059Y</td>\n",
              "      <td>F</td>\n",
              "      <td>PA</td>\n",
              "      <td>2992</td>\n",
              "      <td>2991</td>\n",
              "      <td>0.143</td>\n",
              "      <td>0.143</td>\n",
              "    </tr>\n",
              "    <tr>\n",
              "      <th>2976</th>\n",
              "      <td>00014664_006.png</td>\n",
              "      <td>No Finding</td>\n",
              "      <td>6</td>\n",
              "      <td>14664</td>\n",
              "      <td>057Y</td>\n",
              "      <td>M</td>\n",
              "      <td>AP</td>\n",
              "      <td>2500</td>\n",
              "      <td>2048</td>\n",
              "      <td>0.168</td>\n",
              "      <td>0.168</td>\n",
              "    </tr>\n",
              "    <tr>\n",
              "      <th>2897</th>\n",
              "      <td>00014280_001.png</td>\n",
              "      <td>Effusion|Mass|Nodule|Pleural_Thickening</td>\n",
              "      <td>1</td>\n",
              "      <td>14280</td>\n",
              "      <td>061Y</td>\n",
              "      <td>M</td>\n",
              "      <td>AP</td>\n",
              "      <td>2500</td>\n",
              "      <td>2048</td>\n",
              "      <td>0.168</td>\n",
              "      <td>0.168</td>\n",
              "    </tr>\n",
              "  </tbody>\n",
              "</table>\n",
              "</div>"
            ],
            "text/plain": [
              "           Image Index                           Finding Labels  Follow-up #  \\\n",
              "4418  00021840_022.png                                 Effusion           22   \n",
              "2976  00014664_006.png                               No Finding            6   \n",
              "2897  00014280_001.png  Effusion|Mass|Nodule|Pleural_Thickening            1   \n",
              "\n",
              "      Patient ID Patient Age Patient Gender View Position  OriginalImageWidth  \\\n",
              "4418       21840        059Y              F            PA                2992   \n",
              "2976       14664        057Y              M            AP                2500   \n",
              "2897       14280        061Y              M            AP                2500   \n",
              "\n",
              "      OriginalImageHeight  OriginalImagePixelSpacing_x  \\\n",
              "4418                 2991                        0.143   \n",
              "2976                 2048                        0.168   \n",
              "2897                 2048                        0.168   \n",
              "\n",
              "      OriginalImagePixelSpacing_y  \n",
              "4418                        0.143  \n",
              "2976                        0.168  \n",
              "2897                        0.168  "
            ]
          },
          "metadata": {
            "tags": []
          },
          "execution_count": 2
        }
      ]
    },
    {
      "cell_type": "code",
      "metadata": {
        "id": "BcyHcVgj-Dhn"
      },
      "source": [
        "## EDA\n",
        "# Todo "
      ],
      "execution_count": null,
      "outputs": []
    }
  ]
}